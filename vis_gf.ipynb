{
 "cells": [
  {
   "cell_type": "code",
   "execution_count": 42,
   "outputs": [],
   "source": [
    "import matplotlib.pyplot as plt\n",
    "import pandas as pd\n",
    "import numpy as np\n",
    "import matplotlib.ticker as ticker\n",
    "import matplotlib as mpl\n",
    "%matplotlib inline"
   ],
   "metadata": {
    "collapsed": false,
    "pycharm": {
     "name": "#%%\n"
    }
   }
  },
  {
   "cell_type": "code",
   "execution_count": 120,
   "outputs": [],
   "source": [
    "# 读取txt文件，获得dataframe对象，各记录项设置为names\n",
    "# 数据清洗，将txt中的str类型Series数据变为float类型数组\n",
    "# 转化Series中的Object对象为float类型，并将Series转化为数组array,重置为(1440,1)\n",
    "def get_short(file):\n",
    "    \"\"\"\n",
    "    A helper function to get array date from the dataframe object\n",
    "\n",
    "    :param file: table file. txt or csv.\n",
    "            The input data from txt or csv, etc.\n",
    "\n",
    "    :return: dict\n",
    "            The dictionary of day, time(min) label and short X-ray flux.\n",
    "    \"\"\"\n",
    "    dates = pd.read_csv(file, names=['YR', 'MO', 'DA', 'HHMM', 'Day', 'Sec', 'Short', 'Long', 'Ratio'], header=None, sep='\\s+')\n",
    "    x_short = dates.loc[19:,'Short'].apply(float).values.reshape(1440,1)\n",
    "    time = dates.loc[19:,'Sec'].apply(float).values.reshape(1440,1)\n",
    "    day = str(dates.loc[19,'YR']) + str(dates.loc[19,'MO']) + str(dates.loc[19,'DA'])\n",
    "\n",
    "    xs_data = {'x_short':x_short,\n",
    "                'time':time,\n",
    "                'day':day}\n",
    "\n",
    "    return xs_data\n"
   ],
   "metadata": {
    "collapsed": false,
    "pycharm": {
     "name": "#%%\n"
    }
   }
  },
  {
   "cell_type": "code",
   "execution_count": 129,
   "outputs": [],
   "source": [
    "def my_plotter_xf(ax, data_dict, param_dict):\n",
    "    \"\"\"\n",
    "    A helper function to make plot gragh\n",
    "\n",
    "    :param ax: Axes\n",
    "            The axes to draw to\n",
    "    :param data_dict: dict\n",
    "            Dictionary of data, including the time label, X_ray_short and day\n",
    "    :param param_dict: dict\n",
    "            Dictionary of kwargs to pass to ax.plot\n",
    "\n",
    "    :return:\n",
    "            out:list\n",
    "            list of artists added\n",
    "    \"\"\"\n",
    "\n",
    "    out = ax.plot(data_dict['time']/60, data_dict['x_short'], **param_dict)\n",
    "    ax.set_yscale('log')\n",
    "    ax.set_ylim(pow(10,-9),pow(10,-5))\n",
    "    ax.set_xlim(0,max(data_dict['time'])/60)\n",
    "    ax.set_ylabel('5 - 40 AI')\n",
    "    ax.set_xlabel('Time(mins)')\n",
    "    ax.set_title(data_dict['day'])\n",
    "    ax.grid()\n",
    "    return out\n"
   ],
   "metadata": {
    "collapsed": false,
    "pycharm": {
     "name": "#%%\n"
    }
   }
  },
  {
   "cell_type": "code",
   "execution_count": 130,
   "outputs": [],
   "source": [
    "xs_data = get_short(r'D:\\Goes\\Goes_xray\\2011\\20111231_Gp_xr_1m.txt')\n"
   ],
   "metadata": {
    "collapsed": false,
    "pycharm": {
     "name": "#%%\n"
    }
   }
  },
  {
   "cell_type": "code",
   "execution_count": 131,
   "outputs": [
    {
     "data": {
      "text/plain": "<Figure size 432x288 with 1 Axes>",
      "image/png": "[encoded data removed]"
     },
     "metadata": {
      "needs_background": "light"
     },
     "output_type": "display_data"
    }
   ],
   "source": [
    "mpl.rcParams['path.simplify_threshold'] = 0.0\n",
    "fig, ax = plt.subplots()\n",
    "my_plotter_xf(ax, xs_data, {'color':'b','linewidth':'0.8'})\n",
    "plt.subplots_adjust()\n",
    "\n"
   ],
   "metadata": {
    "collapsed": false,
    "pycharm": {
     "name": "#%%\n"
    }
   }
  },
  {
   "cell_type": "code",
   "execution_count": null,
   "outputs": [],
   "source": [
    "\n"
   ],
   "metadata": {
    "collapsed": false,
    "pycharm": {
     "name": "#%%\n"
    }
   }
  }
 ],
 "metadata": {
  "kernelspec": {
   "display_name": "Python 3",
   "language": "python",
   "name": "python3"
  },
  "language_info": {
   "codemirror_mode": {
    "name": "ipython",
    "version": 2
   },
   "file_extension": ".py",
   "mimetype": "text/x-python",
   "name": "python",
   "nbconvert_exporter": "python",
   "pygments_lexer": "ipython2",
   "version": "2.7.6"
  }
 },
 "nbformat": 4,
 "nbformat_minor": 0
}